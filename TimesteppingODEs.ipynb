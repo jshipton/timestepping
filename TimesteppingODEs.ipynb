{
 "cells": [
  {
   "cell_type": "code",
   "execution_count": 3,
   "id": "5ede5dc9",
   "metadata": {},
   "outputs": [],
   "source": [
    "import numpy as np\n",
    "import matplotlib.pyplot as plt"
   ]
  },
  {
   "cell_type": "markdown",
   "id": "fa742b79",
   "metadata": {},
   "source": [
    "# Timestepping\n",
    "\n",
    "The purpose of this notebook is to investigate the properties of several of the most common timestepping schemes in the context of several standard test problems."
   ]
  },
  {
   "cell_type": "markdown",
   "id": "e9e367a3",
   "metadata": {},
   "source": [
    "## Forward Euler\n",
    "Recall that the forward Euler approximation for an equation of the form $y' = f(t, y)$ is:\n",
    "\\begin{equation*}\n",
    "y_{n+1} = y_n + \\Delta t f(t, y_n)\n",
    "\\end{equation*}"
   ]
  },
  {
   "cell_type": "code",
   "execution_count": 19,
   "id": "7628c27d",
   "metadata": {},
   "outputs": [],
   "source": [
    "def forward_euler(t, y, dt, f, **kwargs):\n",
    "    return y + dt * f(t, y, **kwargs)"
   ]
  },
  {
   "cell_type": "code",
   "execution_count": 20,
   "id": "1013a49d",
   "metadata": {},
   "outputs": [],
   "source": [
    "def dahlquist(t, y, lamda=-1):\n",
    "    return lamda * y"
   ]
  },
  {
   "cell_type": "code",
   "execution_count": 28,
   "id": "6ba05ea3",
   "metadata": {},
   "outputs": [
    {
     "data": {
      "text/plain": [
       "[<matplotlib.lines.Line2D at 0x1169fa820>]"
      ]
     },
     "execution_count": 28,
     "metadata": {},
     "output_type": "execute_result"
    },
    {
     "data": {
      "image/png": "[encoded data removed]",
      "text/plain": [
       "<Figure size 432x288 with 1 Axes>"
      ]
     },
     "metadata": {
      "needs_background": "light"
     },
     "output_type": "display_data"
    }
   ],
   "source": [
    "y0 = 1\n",
    "dt = 0.1\n",
    "t_max = 1\n",
    "\n",
    "# initialise t and x:\n",
    "t = 0\n",
    "yn = y0\n",
    "\n",
    "# lists to store output\n",
    "times = [t]\n",
    "sol = [y0]\n",
    "\n",
    "# timeloop\n",
    "while t < t_max:\n",
    "    \n",
    "    # update y and t\n",
    "    ynp1 = forward_euler(t, yn, dt, dahlquist, lamda=1)\n",
    "    t += dt\n",
    "    \n",
    "    # store values\n",
    "    times.append(t)\n",
    "    sol.append(ynp1)\n",
    "    \n",
    "    # update yn for next iteration\n",
    "    yn = ynp1\n",
    "\n",
    "plt.plot(times, sol)"
   ]
  },
  {
   "cell_type": "markdown",
   "id": "54426818",
   "metadata": {},
   "source": [
    "### Exercises\n",
    "1. Experiment with $\\Delta t$ and $\\lambda$ to confirm that the method is stable for $\\lambda\\Delta t < 1$."
   ]
  },
  {
   "cell_type": "markdown",
   "id": "8dae49d8",
   "metadata": {},
   "source": [
    "## Other methods\n",
    "### Exercises\n",
    "1. Implement the backward Euler method and verify its stability.\n",
    "2. Implement the theta method and verify its stability.\n",
    "3. Implement the implicit midpoint method and verify its stability."
   ]
  },
  {
   "cell_type": "markdown",
   "id": "ae7923bc",
   "metadata": {},
   "source": [
    "## Systems of equations\n",
    "### Exercises\n",
    "1. Use forward Euler to solve the Lorenz equations: https://en.wikipedia.org/wiki/Lorenz_system\n",
    "2. Write an RK4 timestepper for the Lorenz equations: https://en.wikipedia.org/wiki/Runge–Kutta_methods"
   ]
  },
  {
   "cell_type": "code",
   "execution_count": null,
   "id": "3e00694c",
   "metadata": {},
   "outputs": [],
   "source": []
  }
 ],
 "metadata": {
  "kernelspec": {
   "display_name": "Python 3 (ipykernel)",
   "language": "python",
   "name": "python3"
  },
  "language_info": {
   "codemirror_mode": {
    "name": "ipython",
    "version": 3
   },
   "file_extension": ".py",
   "mimetype": "text/x-python",
   "name": "python",
   "nbconvert_exporter": "python",
   "pygments_lexer": "ipython3",
   "version": "3.9.13"
  }
 },
 "nbformat": 4,
 "nbformat_minor": 5
}
